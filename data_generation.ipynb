{
  "nbformat": 4,
  "nbformat_minor": 0,
  "metadata": {
    "colab": {
      "name": "Copy of data generation.ipynb",
      "provenance": [],
      "collapsed_sections": [],
      "include_colab_link": true
    },
    "kernelspec": {
      "name": "python3",
      "display_name": "Python 3"
    },
    "language_info": {
      "name": "python"
    }
  },
  "cells": [
    {
      "cell_type": "markdown",
      "metadata": {
        "id": "view-in-github",
        "colab_type": "text"
      },
      "source": [
        "<a href=\"https://colab.research.google.com/github/kzeng4/text2es/blob/main/data_generation.ipynb\" target=\"_parent\"><img src=\"https://colab.research.google.com/assets/colab-badge.svg\" alt=\"Open In Colab\"/></a>"
      ]
    },
    {
      "cell_type": "markdown",
      "source": [
        "# **Data genration of text fields**\n",
        "\n",
        " \n",
        "*   Fields include LAB_DATA, OTHER_MEDS, CUR_ILL, HISTORY, ALLERGIES, PRIOR_VAX\n",
        "\n",
        "\n"
      ],
      "metadata": {
        "id": "meHxXylQ3b_o"
      }
    },
    {
      "cell_type": "markdown",
      "source": [
        "## 1. Value candidate filter\n",
        "\n",
        "\n",
        "*   random sample sufficient values\n",
        "*   filter out valid values by re and human annotation\n",
        "\n"
      ],
      "metadata": {
        "id": "zkF00Tu44Sq9"
      }
    },
    {
      "cell_type": "code",
      "execution_count": 1,
      "metadata": {
        "colab": {
          "base_uri": "https://localhost:8080/"
        },
        "id": "K8iJ8sKvSNWq",
        "outputId": "d4c8fdcb-d9d8-4c21-a452-d7868a9bb67e"
      },
      "outputs": [
        {
          "output_type": "stream",
          "name": "stdout",
          "text": [
            "Mounted at /content/drive\n"
          ]
        }
      ],
      "source": [
        "from google.colab import drive\n",
        "drive.mount('/content/drive')"
      ]
    },
    {
      "cell_type": "code",
      "source": [
        "import numpy as np\n",
        "import pandas as pd\n",
        "import json\n",
        "import re\n",
        "import random\n",
        "random.seed(2)"
      ],
      "metadata": {
        "id": "6U6D0hcmDfs-"
      },
      "execution_count": 2,
      "outputs": []
    },
    {
      "cell_type": "code",
      "source": [
        "json_file_path = \"/content/drive/MyDrive/text2elasticsearch/2022-n.json\"\n",
        "with open(json_file_path, encoding='utf-8') as j:\n",
        "     contents = json.load(j)"
      ],
      "metadata": {
        "id": "59uuUuXnagp8"
      },
      "execution_count": 3,
      "outputs": []
    },
    {
      "cell_type": "code",
      "source": [
        "import nltk\n",
        "nltk.download('brown')\n",
        "nltk.download('punkt')\n",
        "from textblob import TextBlob"
      ],
      "metadata": {
        "colab": {
          "base_uri": "https://localhost:8080/"
        },
        "id": "g2iMKp8w48j5",
        "outputId": "b54d951c-fc77-4859-ba9c-9de4792a14f8"
      },
      "execution_count": 4,
      "outputs": [
        {
          "output_type": "stream",
          "name": "stderr",
          "text": [
            "[nltk_data] Downloading package brown to /root/nltk_data...\n",
            "[nltk_data]   Unzipping corpora/brown.zip.\n",
            "[nltk_data] Downloading package punkt to /root/nltk_data...\n",
            "[nltk_data]   Unzipping tokenizers/punkt.zip.\n"
          ]
        }
      ]
    },
    {
      "cell_type": "code",
      "source": [
        "values = {}"
      ],
      "metadata": {
        "id": "nllB74Gvy_CI"
      },
      "execution_count": 58,
      "outputs": []
    },
    {
      "cell_type": "markdown",
      "source": [
        "### 1.1 ALLERGIES"
      ],
      "metadata": {
        "id": "x_87xF0PYlmb"
      }
    },
    {
      "cell_type": "code",
      "source": [
        "ALL = random.sample(contents['ALLERGIES_X'],1000)"
      ],
      "metadata": {
        "id": "SOGDoPRKYhE2"
      },
      "execution_count": 5,
      "outputs": []
    },
    {
      "cell_type": "code",
      "source": [
        "all=[]\n",
        "for i in range(len(ALL)):\n",
        "  blob = TextBlob(ALL[i])\n",
        "  noun = blob.noun_phrases\n",
        "  if noun:\n",
        "    for j in range(len(noun)):\n",
        "      all.append(blob.noun_phrases[j])"
      ],
      "metadata": {
        "id": "oZvvIJP-5hw-"
      },
      "execution_count": 6,
      "outputs": []
    },
    {
      "cell_type": "code",
      "source": [
        "all1=list(set(all))"
      ],
      "metadata": {
        "id": "8rNQotAv8J10"
      },
      "execution_count": 7,
      "outputs": []
    },
    {
      "cell_type": "code",
      "source": [
        "df = pd.DataFrame(all1[0:350]) \n",
        "df.to_csv('/content/drive/MyDrive/text2elasticsearch/ALL1.csv')"
      ],
      "metadata": {
        "id": "8Q4UTENFIneV"
      },
      "execution_count": 8,
      "outputs": []
    },
    {
      "cell_type": "code",
      "source": [
        "all1 = pd.read_csv('/content/drive/MyDrive/text2elasticsearch/values/ALL1 - ALL1.csv',header = 0)"
      ],
      "metadata": {
        "id": "enVPSapQG30D"
      },
      "execution_count": 9,
      "outputs": []
    },
    {
      "cell_type": "code",
      "source": [
        "ALLERGIES = random.sample(list(all1.iloc[:,0]),300)"
      ],
      "metadata": {
        "id": "OTxOaz0mQZP-"
      },
      "execution_count": 44,
      "outputs": []
    },
    {
      "cell_type": "code",
      "source": [
        "values.update({\"ALLERGIES\" : ALLERGIES})"
      ],
      "metadata": {
        "id": "qNNLHoeFzOmQ"
      },
      "execution_count": 59,
      "outputs": []
    },
    {
      "cell_type": "code",
      "source": [
        "df = pd.DataFrame(ALL) \n",
        "df.to_csv('/content/drive/MyDrive/text2elasticsearch/ALL1.csv')"
      ],
      "metadata": {
        "id": "JpW1v8PsRr8_"
      },
      "execution_count": null,
      "outputs": []
    },
    {
      "cell_type": "markdown",
      "source": [
        "### 1.2 Lab_data"
      ],
      "metadata": {
        "id": "CIana8h_f8CG"
      }
    },
    {
      "cell_type": "code",
      "source": [
        "TEST = random.sample(contents['LAB_DATA'],600)"
      ],
      "metadata": {
        "id": "gX_DD7Trf7NQ"
      },
      "execution_count": 11,
      "outputs": []
    },
    {
      "cell_type": "code",
      "source": [
        "def noun_ph(raw):\n",
        "  noun=[]\n",
        "  for i in range(len(raw)):\n",
        "    blob = TextBlob(raw[i])\n",
        "    noun0 = blob.noun_phrases\n",
        "    if noun0:\n",
        "      for j in range(len(noun0)):\n",
        "        noun.append(blob.noun_phrases[j])\n",
        "  noun_u = list(set(noun))\n",
        "  print(len(noun_u))\n",
        "  return noun_u"
      ],
      "metadata": {
        "id": "dvFvgH9dgZiJ"
      },
      "execution_count": 18,
      "outputs": []
    },
    {
      "cell_type": "code",
      "source": [
        "low = lambda x : [x[i].lower() for i in range(len(x))]"
      ],
      "metadata": {
        "id": "OUZ8wCRcPHjp"
      },
      "execution_count": 12,
      "outputs": []
    },
    {
      "cell_type": "code",
      "source": [
        "test350 = list(set(low(TEST[0:350])))"
      ],
      "metadata": {
        "id": "C050clpRVhJR"
      },
      "execution_count": 13,
      "outputs": []
    },
    {
      "cell_type": "code",
      "source": [
        "len(test350)"
      ],
      "metadata": {
        "colab": {
          "base_uri": "https://localhost:8080/"
        },
        "id": "G2-xm7cumf43",
        "outputId": "21a82b41-53cd-4129-8e38-0ccbd419641f"
      },
      "execution_count": 16,
      "outputs": [
        {
          "output_type": "execute_result",
          "data": {
            "text/plain": [
              "328"
            ]
          },
          "metadata": {},
          "execution_count": 16
        }
      ]
    },
    {
      "cell_type": "code",
      "source": [
        "df = pd.DataFrame(test350) \n",
        "df.to_csv('/content/drive/MyDrive/text2elasticsearch/test350.csv')"
      ],
      "metadata": {
        "id": "hFn1NQUKhgLV"
      },
      "execution_count": 17,
      "outputs": []
    },
    {
      "cell_type": "code",
      "source": [
        "test1 = pd.read_csv('/content/drive/MyDrive/text2elasticsearch/values/test350 - test350.csv',header = 0)"
      ],
      "metadata": {
        "id": "sCAZNiKYbLto"
      },
      "execution_count": 14,
      "outputs": []
    },
    {
      "cell_type": "code",
      "source": [
        "test = random.sample(list(test1.iloc[:,0]),300)"
      ],
      "metadata": {
        "id": "XFPE0OEObSio"
      },
      "execution_count": 15,
      "outputs": []
    },
    {
      "cell_type": "code",
      "source": [
        "values.update({\"LAB_DATA\" : test})"
      ],
      "metadata": {
        "id": "A6ruqYhpzk4G"
      },
      "execution_count": 60,
      "outputs": []
    },
    {
      "cell_type": "code",
      "source": [
        "pd.DataFrame(test).to_csv('/content/drive/MyDrive/text2elasticsearch/test-22.csv')"
      ],
      "metadata": {
        "id": "lMN7fXomcXd0"
      },
      "execution_count": null,
      "outputs": []
    },
    {
      "cell_type": "markdown",
      "source": [
        "### 1.3 OTHER_MEDS"
      ],
      "metadata": {
        "id": "TeKI01nStIbu"
      }
    },
    {
      "cell_type": "code",
      "source": [
        "random.seed(2)\n",
        "MEDS = random.sample(contents['OTHER_MEDS'],600)\n",
        "MEDS350 = MEDS[0:350]"
      ],
      "metadata": {
        "id": "5yipHHAutKPQ"
      },
      "execution_count": null,
      "outputs": []
    },
    {
      "cell_type": "code",
      "source": [
        "MEDS350 = list(set(low(MEDS350)))"
      ],
      "metadata": {
        "id": "p8vnPXGDurq2"
      },
      "execution_count": null,
      "outputs": []
    },
    {
      "cell_type": "code",
      "source": [
        "re.findall(r'\\d*\\.*\\d*\\s*m\\w?g',MEDS[0])"
      ],
      "metadata": {
        "colab": {
          "base_uri": "https://localhost:8080/"
        },
        "id": "1fxq6FmFkZMw",
        "outputId": "5a3abb44-5f90-4804-8afe-cd0c575c356d"
      },
      "execution_count": null,
      "outputs": [
        {
          "output_type": "execute_result",
          "data": {
            "text/plain": [
              "[]"
            ]
          },
          "metadata": {},
          "execution_count": 88
        }
      ]
    },
    {
      "cell_type": "code",
      "source": [
        "def dose(m):\n",
        " d = re.findall(r'\\s*\\d*\\.*\\d*\\s*mc?g',m)\n",
        " return d"
      ],
      "metadata": {
        "id": "AP7JHHQHempH"
      },
      "execution_count": null,
      "outputs": []
    },
    {
      "cell_type": "code",
      "source": [
        "MEDS[197]"
      ],
      "metadata": {
        "colab": {
          "base_uri": "https://localhost:8080/",
          "height": 35
        },
        "id": "HtIIPMrs0LyX",
        "outputId": "8d0dbfd4-4c78-4686-e0a7-a88062297569"
      },
      "execution_count": null,
      "outputs": [
        {
          "output_type": "execute_result",
          "data": {
            "text/plain": [
              "' Vitamin D3 2000 units'"
            ],
            "application/vnd.google.colaboratory.intrinsic+json": {
              "type": "string"
            }
          },
          "metadata": {},
          "execution_count": 90
        }
      ]
    },
    {
      "cell_type": "code",
      "source": [
        "dose(MEDS[35])"
      ],
      "metadata": {
        "colab": {
          "base_uri": "https://localhost:8080/"
        },
        "id": "OKmhWINsxmIz",
        "outputId": "07ac8693-0871-4bff-e8d8-b6992f71f45b"
      },
      "execution_count": null,
      "outputs": [
        {
          "output_type": "execute_result",
          "data": {
            "text/plain": [
              "[]"
            ]
          },
          "metadata": {},
          "execution_count": 71
        }
      ]
    },
    {
      "cell_type": "code",
      "source": [
        "med = []\n",
        "for i in range(len(MEDS350)):\n",
        "  if dose(MEDS350[i]):\n",
        "    med1 = re.findall(r'(\\D*\\s*\\D*)(\\s*\\d*\\.*\\d*\\s*m\\w?g)',MEDS350[i])[0][0]\n",
        "    if med1:\n",
        "      med.append(med1)\n",
        "  else :\n",
        "    med.append(MEDS350[i])"
      ],
      "metadata": {
        "id": "P4BMNvlhgPLc"
      },
      "execution_count": null,
      "outputs": []
    },
    {
      "cell_type": "code",
      "source": [
        "med0 = list(set(med))"
      ],
      "metadata": {
        "id": "L0xo_-SN3YuR"
      },
      "execution_count": null,
      "outputs": []
    },
    {
      "cell_type": "code",
      "source": [
        "df = pd.DataFrame(med0) \n",
        "df.to_csv('/content/drive/MyDrive/text2elasticsearch/med0.csv')"
      ],
      "metadata": {
        "id": "HfyJpKiG5Ar1"
      },
      "execution_count": null,
      "outputs": []
    },
    {
      "cell_type": "code",
      "source": [
        "med1 = list(pd.read_csv('/content/drive/MyDrive/text2elasticsearch/values/med0 - med0.csv',header = 0).iloc[:,0].apply(lambda x: x.strip()))"
      ],
      "metadata": {
        "id": "RzqeU_sB880P"
      },
      "execution_count": 16,
      "outputs": []
    },
    {
      "cell_type": "code",
      "source": [
        "OTHER_MEDS = random.sample(list(set(med1)),300)"
      ],
      "metadata": {
        "id": "bG4IcI5e9zRA"
      },
      "execution_count": 17,
      "outputs": []
    },
    {
      "cell_type": "code",
      "source": [
        "values.update({\"OTHER_MEDS\" : OTHER_MEDS})"
      ],
      "metadata": {
        "id": "uRGMOs4Izvrl"
      },
      "execution_count": 61,
      "outputs": []
    },
    {
      "cell_type": "code",
      "source": [
        "values = {'OTHER_MEDS': OTHER_MEDS}"
      ],
      "metadata": {
        "id": "ONGg51uj-zvJ"
      },
      "execution_count": null,
      "outputs": []
    },
    {
      "cell_type": "markdown",
      "source": [
        "## 1.3 CUR_ILL"
      ],
      "metadata": {
        "id": "IzEUn3RsY0H7"
      }
    },
    {
      "cell_type": "code",
      "source": [
        "ill = random.sample(contents['CUR_ILL'],800)\n",
        "ill550 = ill[0:550]"
      ],
      "metadata": {
        "id": "Ih_m4leyYzPP"
      },
      "execution_count": 26,
      "outputs": []
    },
    {
      "cell_type": "code",
      "source": [
        "ill_n = noun_ph(ill550)"
      ],
      "metadata": {
        "colab": {
          "base_uri": "https://localhost:8080/"
        },
        "id": "pBaB1EgCsSCG",
        "outputId": "cc152c25-6fc7-4b41-cfc5-8fe539392187"
      },
      "execution_count": 28,
      "outputs": [
        {
          "output_type": "stream",
          "name": "stdout",
          "text": [
            "441\n"
          ]
        }
      ]
    },
    {
      "cell_type": "code",
      "source": [
        "df = pd.DataFrame(ill_n) \n",
        "df.to_csv('/content/drive/MyDrive/text2elasticsearch/ill_n.csv')"
      ],
      "metadata": {
        "id": "J4n7pJiLaXrW"
      },
      "execution_count": 30,
      "outputs": []
    },
    {
      "cell_type": "code",
      "source": [
        "ill1 = list(pd.read_csv('/content/drive/MyDrive/text2elasticsearch/values/ill_n - ill_n.csv',header = 0).iloc[:,0].apply(lambda x: x.strip()))"
      ],
      "metadata": {
        "id": "unU-IcM_uxI7"
      },
      "execution_count": 31,
      "outputs": []
    },
    {
      "cell_type": "code",
      "source": [
        "CUR_ILL = random.sample(list(set(ill1)),400)"
      ],
      "metadata": {
        "id": "zBvUhNPIvEHw"
      },
      "execution_count": 32,
      "outputs": []
    },
    {
      "cell_type": "code",
      "source": [
        "values.update({\"CUR_ILL\" : CUR_ILL})"
      ],
      "metadata": {
        "id": "cgjfDkN2z2qw"
      },
      "execution_count": 62,
      "outputs": []
    },
    {
      "cell_type": "markdown",
      "source": [
        "## 1.4 HISTORY"
      ],
      "metadata": {
        "id": "r_TJlH1dY4jS"
      }
    },
    {
      "cell_type": "code",
      "source": [
        "his = random.sample(contents['HISTORY_X'],800)\n",
        "his450 = list(set(low(his[0:450])))"
      ],
      "metadata": {
        "id": "5vqRaBJkZcuh"
      },
      "execution_count": 36,
      "outputs": []
    },
    {
      "cell_type": "code",
      "source": [
        "df = pd.DataFrame(his450) \n",
        "df.to_csv('/content/drive/MyDrive/text2elasticsearch/his450.csv')"
      ],
      "metadata": {
        "id": "nXLgKl5kvfOy"
      },
      "execution_count": 38,
      "outputs": []
    },
    {
      "cell_type": "code",
      "source": [
        "his1 = list(pd.read_csv('/content/drive/MyDrive/text2elasticsearch/values/his450 - his450.csv',header = 0).iloc[:,0].apply(lambda x: x.strip()))"
      ],
      "metadata": {
        "id": "jrfXttEHyb82"
      },
      "execution_count": 39,
      "outputs": []
    },
    {
      "cell_type": "code",
      "source": [
        "HISTORY = random.sample(list(set(his1)),400)"
      ],
      "metadata": {
        "id": "MfBGgaFqyit9"
      },
      "execution_count": 63,
      "outputs": []
    },
    {
      "cell_type": "code",
      "source": [
        "values.update({\"HISTORY\" : HISTORY})"
      ],
      "metadata": {
        "id": "1VX9uYsLz8dT"
      },
      "execution_count": 64,
      "outputs": []
    },
    {
      "cell_type": "markdown",
      "source": [
        "## 1.6 Prior_vax(date)"
      ],
      "metadata": {
        "id": "I2dPzq_eXfg7"
      }
    },
    {
      "cell_type": "code",
      "source": [
        "prior = random.sample(contents['PRIOR_VAX'],600)\n",
        "PRIOR_VAX = prior[0:300]"
      ],
      "metadata": {
        "id": "xwx7IcB_Xe4l"
      },
      "execution_count": 42,
      "outputs": []
    },
    {
      "cell_type": "code",
      "source": [
        "values.update({\"PRIOR_VAX\" : PRIOR_VAX})"
      ],
      "metadata": {
        "id": "9Tf0X7ma0DOG"
      },
      "execution_count": 65,
      "outputs": []
    },
    {
      "cell_type": "code",
      "source": [
        "values.keys()"
      ],
      "metadata": {
        "colab": {
          "base_uri": "https://localhost:8080/"
        },
        "id": "Fmct8LNk0KeD",
        "outputId": "a40eacd1-66b6-4312-c135-183d0ef50c6b"
      },
      "execution_count": 66,
      "outputs": [
        {
          "output_type": "execute_result",
          "data": {
            "text/plain": [
              "dict_keys(['ALLERGIES', 'LAB_DATA', 'OTHER_MEDS', 'CUR_ILL', 'HISTORY', 'PRIOR_VAX'])"
            ]
          },
          "metadata": {},
          "execution_count": 66
        }
      ]
    },
    {
      "cell_type": "markdown",
      "source": [
        "## 2. populate quesiton and finalize data"
      ],
      "metadata": {
        "id": "1709VGIc5uR8"
      }
    },
    {
      "cell_type": "code",
      "source": [
        "form = pd.read_excel('/content/drive/MyDrive/text2elasticsearch/Template-Text2ESQ.xlsx')"
      ],
      "metadata": {
        "id": "8TmrJA_PY1Cv"
      },
      "execution_count": 53,
      "outputs": []
    },
    {
      "cell_type": "code",
      "source": [
        "def populate(value,form):\n",
        "  d = []\n",
        "  Q_raw = form.Questions.apply(lambda x: x.split(\"##\"))\n",
        "  Q_key = [re.findall(r'(\\s*\\[)(.*)(\\])',key[0])[0][1] for key in Q_raw]\n",
        "  Q_d = {}\n",
        "  for k,v in zip(Q_key,Q_raw):\n",
        "    Q_d[str(k)]=v\n",
        "  for key in value.keys():\n",
        "    Q = [re.sub(r'\\s*\\[.*\\]',' '+value[key][i],Q_d[key][int(i/100)]) for i in range(100*len(Q_d[key]))]\n",
        "    for Ques in Q:\n",
        "      d.append({'Field':key , 'Question':Ques})\n",
        "  return d"
      ],
      "metadata": {
        "id": "1a2KcIrBBC41"
      },
      "execution_count": 73,
      "outputs": []
    },
    {
      "cell_type": "code",
      "source": [
        "Questions = populate(values,form)"
      ],
      "metadata": {
        "id": "Y8UfTCT3q003"
      },
      "execution_count": 71,
      "outputs": []
    },
    {
      "cell_type": "code",
      "source": [
        "json1 = open(\"/content/drive/MyDrive/text2elasticsearch/values/Questions.json\", \"w\")\n",
        "json.dump(Questions, json1)"
      ],
      "metadata": {
        "id": "VSxEoeUw12az"
      },
      "execution_count": 76,
      "outputs": []
    },
    {
      "cell_type": "code",
      "source": [
        "json2 = open(\"/content/drive/MyDrive/text2elasticsearch/values/Values.json\", \"w\")\n",
        "json.dump(values, json2)"
      ],
      "metadata": {
        "id": "Dnze8cjl2k8D"
      },
      "execution_count": 75,
      "outputs": []
    }
  ]
}